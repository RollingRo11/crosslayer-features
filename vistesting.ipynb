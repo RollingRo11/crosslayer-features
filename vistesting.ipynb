{
 "cells": [
  {
   "cell_type": "code",
   "execution_count": 32,
   "id": "358a218e-9ce6-467b-b9fb-da75bf731e48",
   "metadata": {},
   "outputs": [],
   "source": [
    "import argparse\n",
    "import sys\n",
    "import torch\n",
    "from pathlib import Path\n",
    "from crosscoder.newcrosscoder import cc_config, Crosscoder_Model\n",
    "import crosscoder.newcrosscoder as newcrosscoder\n",
    "sys.modules['newcrosscoder'] = newcrosscoder"
   ]
  },
  {
   "cell_type": "code",
   "execution_count": 35,
   "id": "558ce643-9421-42f4-8f57-78d4bdec7f99",
   "metadata": {},
   "outputs": [
    {
     "data": {
      "text/plain": [
       "<All keys matched successfully>"
      ]
     },
     "execution_count": 35,
     "metadata": {},
     "output_type": "execute_result"
    }
   ],
   "source": [
    "model = Crosscoder_Model(cc_config)\n",
    "state_dict = torch.load(\"./checkpoints/crosscoder_step_20000.pt\", map_location=\"cpu\", weights_only=False)\n",
    "model.load_state_dict(state_dict[\"model_state_dict\"])"
   ]
  },
  {
   "cell_type": "code",
   "execution_count": 36,
   "id": "734b4190-fdc1-4666-82bd-e09117efd79a",
   "metadata": {},
   "outputs": [
    {
     "name": "stdout",
     "output_type": "stream",
     "text": [
      "torch.Size([32768, 12, 768])\n"
     ]
    }
   ],
   "source": [
    "print(model.W_dec.shape)"
   ]
  },
  {
   "cell_type": "code",
   "execution_count": 40,
   "id": "065c7b2b-4e08-44e6-9bcf-b8c21f89ff89",
   "metadata": {},
   "outputs": [
    {
     "name": "stdout",
     "output_type": "stream",
     "text": [
      "tensor(0.5703, dtype=torch.bfloat16, grad_fn=<LinalgVectorNormBackward0>)\n"
     ]
    }
   ],
   "source": [
    "print(model.W_dec[10000][0].norm())"
   ]
  },
  {
   "cell_type": "code",
   "execution_count": 50,
   "id": "006ea096-9dd1-4992-9a35-d2602eb89940",
   "metadata": {},
   "outputs": [
    {
     "name": "stdout",
     "output_type": "stream",
     "text": [
      "[0.578125, 0.57421875, 0.55859375, 0.5859375, 0.5859375, 0.578125, 0.5625, 0.57421875, 0.578125, 0.58203125, 0.5625, 0.57421875]\n",
      "0.5859375\n",
      "[0.9866666666666667, 0.98, 0.9533333333333334, 1.0, 1.0, 0.9866666666666667, 0.96, 0.98, 0.9866666666666667, 0.9933333333333333, 0.96, 0.98]\n"
     ]
    }
   ],
   "source": [
    "norms = []\n",
    "for i in range(1):\n",
    "    for j in range(12):\n",
    "        inorm = torch.linalg.norm(model.W_dec[i][j]).item()\n",
    "        norms.append(inorm)\n",
    "print(norms)\n",
    "\n",
    "max_val = max(norms)\n",
    "print(max_val)\n",
    "for i in range(len(norms)):\n",
    "    temp = norms[i]\n",
    "    norms[i] = temp / max_val\n",
    "    \n",
    "print(norms)"
   ]
  },
  {
   "cell_type": "code",
   "execution_count": null,
   "id": "a375af4b-9a92-4def-adaf-79acab5f829c",
   "metadata": {},
   "outputs": [],
   "source": []
  },
  {
   "cell_type": "code",
   "execution_count": null,
   "id": "b492620e-8411-4e6d-b20e-7745f0070121",
   "metadata": {},
   "outputs": [],
   "source": []
  }
 ],
 "metadata": {
  "kernelspec": {
   "display_name": "Python (crosslayer-features)",
   "language": "python",
   "name": "crosslayer-features"
  },
  "language_info": {
   "codemirror_mode": {
    "name": "ipython",
    "version": 3
   },
   "file_extension": ".py",
   "mimetype": "text/x-python",
   "name": "python",
   "nbconvert_exporter": "python",
   "pygments_lexer": "ipython3",
   "version": "3.12.10"
  }
 },
 "nbformat": 4,
 "nbformat_minor": 5
}
